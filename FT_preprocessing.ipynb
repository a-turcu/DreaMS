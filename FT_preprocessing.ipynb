{
 "cells": [
  {
   "cell_type": "markdown",
   "metadata": {},
   "source": [
    "### This file is meant to preprocess the mgf data for contrastive fine-tuning"
   ]
  },
  {
   "cell_type": "code",
   "execution_count": 1,
   "metadata": {},
   "outputs": [],
   "source": [
    "from dreams.utils.data import MSData, evaluate_split\n",
    "import numpy as np\n",
    "import pandas as pd\n",
    "from dreams.api import dreams_embeddings\n",
    "from sklearn.metrics.pairwise import cosine_similarity\n",
    "import umap\n",
    "from dreams.utils.mols import formula_type\n",
    "import seaborn as sns\n",
    "import matplotlib.pyplot as plt\n",
    "from dreams.utils.plots import init_plotting\n",
    "from matplotlib.colors import LinearSegmentedColormap\n",
    "from tqdm import tqdm\n",
    "from rdkit import Chem"
   ]
  },
  {
   "cell_type": "code",
   "execution_count": 2,
   "metadata": {},
   "outputs": [
    {
     "name": "stdout",
     "output_type": "stream",
     "text": [
      "MSData(pth=data\\mgf_MoNA_experimental.hdf5, in_mem=False) with 167,958 spectra.\n",
      "['EXACTMASS', 'FORMULA', 'INCHIKEY', 'INSTRUMENT_TYPE', 'IONMODE', 'NAME', 'RTINSECONDS', 'SOURCE_INSTRUMENT', 'SPECTRUM_TYPE', 'charge', 'precursor_mz', 'smiles', 'spectrum']\n"
     ]
    }
   ],
   "source": [
    "data_full = MSData('data/mgf_MoNA_experimental.hdf5')\n",
    "print(data_full)\n",
    "print(data_full.columns())"
   ]
  },
  {
   "cell_type": "markdown",
   "metadata": {},
   "source": [
    "### Quality processing:\n",
    "- rename to NIST name format\n",
    "- filter by [M+H]+ charge as mentioned in paper\n",
    "- remove spectra with invalid smiles\n",
    "- add mol notation\n",
    "- apply A quality conditions (add MSnSpectra column)\n",
    "\n",
    "From 167k to 67k spectra"
   ]
  },
  {
   "cell_type": "code",
   "execution_count": 3,
   "metadata": {},
   "outputs": [
    {
     "name": "stderr",
     "output_type": "stream",
     "text": [
      "[11:26:25] Explicit valence for atom # 0 Be, 4, is greater than permitted\n",
      "[11:26:25] Explicit valence for atom # 0 Be, 4, is greater than permitted\n",
      "[11:26:29] Explicit valence for atom # 19 N, 4, is greater than permitted\n",
      "[11:26:29] Explicit valence for atom # 17 N, 4, is greater than permitted\n",
      "[11:26:29] SMILES Parse Error: syntax error while parsing: InChI=1S/C16H21NO2/c1-2-3-4-5-6-11-14-16(19)15(18)12-9-7-8-10-13(12)17-14/h7-10,19H,2-6,11H2,1H3,(H,17,18)\n",
      "[11:26:29] SMILES Parse Error: Failed parsing SMILES 'InChI=1S/C16H21NO2/c1-2-3-4-5-6-11-14-16(19)15(18)12-9-7-8-10-13(12)17-14/h7-10,19H,2-6,11H2,1H3,(H,17,18)' for input: 'InChI=1S/C16H21NO2/c1-2-3-4-5-6-11-14-16(19)15(18)12-9-7-8-10-13(12)17-14/h7-10,19H,2-6,11H2,1H3,(H,17,18)'\n",
      "[11:26:30] SMILES Parse Error: syntax error while parsing: N/ACCC1(C(=O)NCNC1=O)c2ccccc2\n",
      "[11:26:30] SMILES Parse Error: Failed parsing SMILES 'N/ACCC1(C(=O)NCNC1=O)c2ccccc2' for input: 'N/ACCC1(C(=O)NCNC1=O)c2ccccc2'\n"
     ]
    }
   ],
   "source": [
    "# convert to pandas\n",
    "df = data_full.to_pandas()\n",
    "\n",
    "# convert to NIST format\n",
    "df.rename(columns={'charge': 'CHARGE', 'precursor_mz': 'PRECURSOR M/Z', 'smiles': 'SMILES', 'spectrum': 'PARSED PEAKS'}, inplace=True)\n",
    "# only select the spectra with [M+H]+ adducts\n",
    "df = df[df['CHARGE'] == \"[M+H]+\"]\n",
    "# remove spectra if smiles is n/a or if the smiles is not a valid molecule, also add RoMol column\n",
    "df = df[df['SMILES'] != 'n/a']\n",
    "df = df[df['SMILES'].apply(lambda x: Chem.MolFromSmiles(x) is not None)]\n",
    "df[\"ROMol\"] = [Chem.MolFromSmiles(s) for s in df['SMILES']]\n",
    "\n",
    "# convert to A format adds MSnSpectra column among other quality conditions\n",
    "from dreams.utils.dformats import to_A_format\n",
    "df = to_A_format(df, reset_index=False, filter=False)"
   ]
  },
  {
   "cell_type": "markdown",
   "metadata": {},
   "source": [
    "### Create contrastive dataset:\n",
    "- subsample to n_samples total samples and n_inchi_prefix unique inchikey prefixes\n",
    "- for each spectra, determine positive and negative examples and store indices"
   ]
  },
  {
   "cell_type": "code",
   "execution_count": 4,
   "metadata": {},
   "outputs": [],
   "source": [
    "n_inchi_prefix = 2250\n",
    "n_samples = 12500\n",
    "\n",
    "# get the 14 character prefix of inchikey\n",
    "df[\"INCHI_PREFIX\"] = df[\"INCHIKEY\"].apply(lambda x: x[:14])\n",
    "\n",
    "# ensure only n_inchi_prefix unique INCHI_PREFIX values\n",
    "unique_inchi_prefixes = df.drop_duplicates(subset=[\"INCHI_PREFIX\"]).head(n_inchi_prefix)[\"INCHI_PREFIX\"]\n",
    "\n",
    "# filter the DataFrame to include only rows with these n_inchi_prefix unique INCHI_PREFIX values\n",
    "filtered_df = df[df[\"INCHI_PREFIX\"].isin(unique_inchi_prefixes)]\n",
    "\n",
    "# randomly sample n_samples rows from the filtered DataFrame\n",
    "df = filtered_df.sample(n=n_samples, random_state=1)"
   ]
  },
  {
   "cell_type": "code",
   "execution_count": 5,
   "metadata": {},
   "outputs": [],
   "source": [
    "# # Initialize lists to store positive and negative indices\n",
    "pos_idx = []\n",
    "neg_idx = []\n",
    "\n",
    "# Define mass tolerance\n",
    "mass_tolerance = 0.2\n",
    "\n",
    "# Find positive and negative examples for each spectrum\n",
    "for idx, row in df.iterrows():\n",
    "    # Find positive examples\n",
    "    pos = df[df[\"INCHI_PREFIX\"] == row[\"INCHI_PREFIX\"]].index.tolist()\n",
    "    # keep the same index if only one positive example is found\n",
    "    if len(pos) > 1:\n",
    "        pos.remove(idx)\n",
    "    pos_idx.append(pos)\n",
    "    \n",
    "    # Find negative examples\n",
    "    neg = df[(df[\"EXACTMASS\"].between(row[\"EXACTMASS\"] - mass_tolerance, row[\"EXACTMASS\"] + mass_tolerance)) & (df[\"INCHI_PREFIX\"] != row[\"INCHI_PREFIX\"])].index.tolist()\n",
    "    # if we dont fine any, add the 5 spectra with the smallest difference in exact mass\n",
    "    if len(neg) == 0:\n",
    "        neg = df[(df[\"INCHI_PREFIX\"] != row[\"INCHI_PREFIX\"])].sort_values(by=\"EXACTMASS\", key=lambda x: np.abs(x - row[\"EXACTMASS\"])).head(5).index.tolist()\n",
    "    neg_idx.append(neg)\n",
    "\n",
    "# Add positive and negative indices as new columns in the DataFrame\n",
    "df[\"pos_idx\"] = pos_idx\n",
    "df[\"neg_idx\"] = neg_idx"
   ]
  },
  {
   "cell_type": "markdown",
   "metadata": {},
   "source": [
    "### Create Murcko histogram split according to https://github.com/pluskal-lab/DreaMS/blob/main/tutorials/murcko_hist_split.ipynb"
   ]
  },
  {
   "cell_type": "code",
   "execution_count": 7,
   "metadata": {},
   "outputs": [
    {
     "name": "stderr",
     "output_type": "stream",
     "text": [
      "100%|██████████| 12500/12500 [00:08<00:00, 1473.88it/s]"
     ]
    },
    {
     "name": "stdout",
     "output_type": "stream",
     "text": [
      "Num. unique smiles: 4432 Num. unique Murcko histograms: 153\n",
      "Top 20 most common Murcko histograms:\n"
     ]
    },
    {
     "name": "stderr",
     "output_type": "stream",
     "text": [
      "\n"
     ]
    }
   ],
   "source": [
    "from dreams.algorithms.murcko_hist import murcko_hist\n",
    "# some smiles are invalid?\n",
    "def is_valid_smiles(smiles):\n",
    "    if pd.isna(smiles) or smiles == 'n/a':\n",
    "        return False\n",
    "    mol = Chem.MolFromSmiles(smiles)\n",
    "    return mol is not None\n",
    "\n",
    "\n",
    "# Compute Murcko histograms\n",
    "\n",
    "df_us = df.drop_duplicates(subset=['SMILES']).copy()\n",
    "df_us = df.copy()\n",
    "df_us['MurckoHist'] = df['SMILES'].progress_apply(\n",
    "    lambda x: murcko_hist.murcko_hist(Chem.MolFromSmiles(x))\n",
    ")\n",
    "\n",
    "# Convert dictionaries to strings for easier handling\n",
    "df_us['MurckoHistStr'] = df_us['MurckoHist'].astype(str)\n",
    "print('Num. unique smiles:', df_us['SMILES'].nunique(), 'Num. unique Murcko histograms:', df_us['MurckoHistStr'].nunique())\n",
    "print('Top 20 most common Murcko histograms:')\n",
    "df_us['MurckoHistStr'].value_counts()[:20]\n",
    "\n",
    "# Group by MurckoHistStr and aggregate\n",
    "df_gb = df_us.groupby('MurckoHistStr').agg(\n",
    "    count=('SMILES', 'count'),\n",
    "    smiles_list=('SMILES', list)\n",
    ").reset_index()\n",
    "\n",
    "# Convert MurckoHistStr to MurckoHist\n",
    "df_gb['MurckoHist'] = df_gb['MurckoHistStr'].apply(eval)\n",
    "\n",
    "# Sort by 'n' in descending order and reset index\n",
    "df_gb = df_gb.sort_values('count', ascending=False).reset_index(drop=True)"
   ]
  },
  {
   "cell_type": "code",
   "execution_count": 8,
   "metadata": {},
   "outputs": [
    {
     "name": "stdout",
     "output_type": "stream",
     "text": [
      "Distribution of spectra:\n"
     ]
    },
    {
     "data": {
      "text/plain": [
       "fold\n",
       "train    0.80296\n",
       "val      0.19704\n",
       "Name: proportion, dtype: float64"
      ]
     },
     "metadata": {},
     "output_type": "display_data"
    },
    {
     "name": "stdout",
     "output_type": "stream",
     "text": [
      "Distribution of smiles:\n"
     ]
    },
    {
     "data": {
      "text/plain": [
       "fold\n",
       "train    0.797834\n",
       "val      0.202166\n",
       "Name: proportion, dtype: float64"
      ]
     },
     "metadata": {},
     "output_type": "display_data"
    }
   ],
   "source": [
    "#Split the dataset into training and validation sets based on Murcko histograms\n",
    "\n",
    "median_i = len(df_gb) // 2\n",
    "cum_val_mols = 0\n",
    "val_mols_frac = 0.15  # Approximately 15% of the molecules go to validation set\n",
    "val_idx, train_idx = [], []\n",
    "\n",
    "# Iterate from median to start, assigning molecules to train or val sets\n",
    "for i in range(median_i, -1, -1):\n",
    "    current_hist = df_gb.iloc[i]['MurckoHist']\n",
    "    is_val_subhist = any(\n",
    "        murcko_hist.are_sub_hists(current_hist, df_gb.iloc[j]['MurckoHist'], k=3, d=4)\n",
    "        for j in val_idx\n",
    "    )\n",
    "\n",
    "    if is_val_subhist:\n",
    "        train_idx.append(i)\n",
    "    else:\n",
    "        if cum_val_mols / len(df_us) <= val_mols_frac:\n",
    "            cum_val_mols += df_gb.iloc[i]['count']\n",
    "            val_idx.append(i)\n",
    "        else:\n",
    "            train_idx.append(i)\n",
    "\n",
    "# Add remaining indices to train set\n",
    "train_idx.extend(range(median_i + 1, len(df_gb)))\n",
    "assert(len(train_idx) + len(val_idx) == len(df_gb))\n",
    "\n",
    "# Map SMILES to their assigned fold\n",
    "smiles_to_fold = {}\n",
    "for i, row in df_gb.iterrows():\n",
    "    fold = 'val' if i in val_idx else 'train'\n",
    "    for smiles in row['smiles_list']:\n",
    "        smiles_to_fold[smiles] = fold\n",
    "df['fold'] = df['SMILES'].map(smiles_to_fold)\n",
    "\n",
    "# Display fold distributions\n",
    "print('Distribution of spectra:')\n",
    "display(df['fold'].value_counts(normalize=True))\n",
    "print('Distribution of smiles:')\n",
    "display(df.drop_duplicates(subset=['SMILES'])['fold'].value_counts(normalize=True))"
   ]
  },
  {
   "cell_type": "code",
   "execution_count": 10,
   "metadata": {},
   "outputs": [
    {
     "name": "stderr",
     "output_type": "stream",
     "text": [
      "100%|██████████| 3536/3536 [00:00<00:00, 4799.66it/s]\n",
      "100%|██████████| 896/896 [00:00<00:00, 5564.37it/s]\n"
     ]
    },
    {
     "name": "stdout",
     "output_type": "stream",
     "text": [
      "INFO: Pandarallel will run on 4 workers.\n",
      "INFO: Pandarallel will use standard multiprocessing data transfer (pipe) to transfer data between the main process and workers.\n",
      "\n",
      "WARNING: You are on Windows. If you detect any issue with pandarallel, be sure you checked out the Troubleshooting page:\n",
      "https://nalepae.github.io/pandarallel/troubleshooting/\n"
     ]
    },
    {
     "data": {
      "application/vnd.jupyter.widget-view+json": {
       "model_id": "3e1dad5b08b14b5bb141e82a403b9d67",
       "version_major": 2,
       "version_minor": 0
      },
      "text/plain": [
       "VBox(children=(HBox(children=(IntProgress(value=0, description='0.00%', max=224), Label(value='0 / 224'))), HB…"
      ]
     },
     "metadata": {},
     "output_type": "display_data"
    },
    {
     "data": {
      "image/png": "[encoded data removed]",
      "text/plain": [
       "<Figure size 300x300 with 1 Axes>"
      ]
     },
     "metadata": {},
     "output_type": "display_data"
    }
   ],
   "source": [
    "# Evaluate data leakage\n",
    "eval_res = evaluate_split(df, n_workers=4, smiles_col=\"SMILES\")\n",
    "init_plotting(figsize=(3, 3))\n",
    "sns.histplot(eval_res['val'], bins=100)\n",
    "plt.xlabel('Max Tanimoto similarity to training set')\n",
    "plt.ylabel('Num. validation set molecules')\n",
    "plt.show()"
   ]
  },
  {
   "cell_type": "code",
   "execution_count": 11,
   "metadata": {},
   "outputs": [],
   "source": [
    "# Store the dataset to pickle (required by train.py)\n",
    "df.to_pickle(f'data/MoNA_experimental_contrastive.pkl')"
   ]
  },
  {
   "cell_type": "markdown",
   "metadata": {},
   "source": [
    "### Contrastive fine-tuning"
   ]
  },
  {
   "cell_type": "code",
   "execution_count": null,
   "metadata": {},
   "outputs": [],
   "source": [
    "#!python dreams/training/train.py --num_workers_data 12 --no_wandb --project_name \"dreams-contrastive\" --job_key \"default\" --run_name \"default\" --train_objective \"contrastive_spec_embs\" --train_regime \"fine-tuning\" --dataset_pth \"data/MoNA_experimental_contrastive.pkl\" --dformat A --model DreaMS --lr 3e-5 --batch_size 4 --prec_intens 1.1 --num_devices 8 --max_epochs 10 --log_every_n_steps 5 --head_depth 1 --seed 3407 --train_precision 32   --pre_trained_pth \"dreams/models/pretrained/ssl_model.ckpt\" --val_check_interval 0.1 --max_peaks_n 100 --save_top_k -1"
   ]
  },
  {
   "cell_type": "markdown",
   "metadata": {},
   "source": [
    "### Steps after training:\n",
    "1. generate embeddings with finetuned model\n",
    "2. calculate novelty as inverse cosine similarity\n",
    "3. plot umap and compare with non finetuned version"
   ]
  }
 ],
 "metadata": {
  "kernelspec": {
   "display_name": "dreams",
   "language": "python",
   "name": "python3"
  },
  "language_info": {
   "codemirror_mode": {
    "name": "ipython",
    "version": 3
   },
   "file_extension": ".py",
   "mimetype": "text/x-python",
   "name": "python",
   "nbconvert_exporter": "python",
   "pygments_lexer": "ipython3",
   "version": "3.11.9"
  }
 },
 "nbformat": 4,
 "nbformat_minor": 2
}
