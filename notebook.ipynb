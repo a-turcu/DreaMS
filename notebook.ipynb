{
 "cells": [
  {
   "cell_type": "code",
   "execution_count": 52,
   "metadata": {},
   "outputs": [],
   "source": [
    "from dreams.utils.data import MSData\n",
    "import numpy as np\n",
    "import pandas as pd\n",
    "from dreams.api import dreams_embeddings\n",
    "from sklearn.metrics.pairwise import cosine_similarity\n",
    "import umap\n",
    "from dreams.utils.mols import formula_type\n",
    "import seaborn as sns\n",
    "import matplotlib.pyplot as plt\n",
    "from dreams.utils.plots import init_plotting\n",
    "from matplotlib.colors import LinearSegmentedColormap"
   ]
  },
  {
   "cell_type": "code",
   "execution_count": null,
   "metadata": {},
   "outputs": [],
   "source": [
    "data_full = MSData.from_mgf('data/mgf_MoNA_experimental.mgf', in_mem=False)\n",
    "print(data_full)\n",
    "print(data_full.columns())"
   ]
  },
  {
   "cell_type": "markdown",
   "metadata": {},
   "source": [
    "Get meaningful subset of dataset"
   ]
  },
  {
   "cell_type": "code",
   "execution_count": null,
   "metadata": {},
   "outputs": [],
   "source": [
    "# ASSUMPTION: SPECTRUM_TYPE representative of the dataset\n",
    "# some datapoints do not have a SPECTRUM_TYPE. Why?\n",
    "\n",
    "# dataset is too large -> proportional subsampling on SPECTRUM_TYPE\n",
    "# there are 10 unique SPECTRUM_TYPE for 167,958 spectra\n",
    "\n",
    "spectrum_types = data_full['SPECTRUM_TYPE']\n",
    "spectrum_types = np.array(spectrum_types)\n",
    "unique_types, type_counts = np.unique(spectrum_types, return_counts=True)\n",
    "\n",
    "print(\"Spectrum Types and their counts:\")\n",
    "for type, count in zip(unique_types, type_counts):\n",
    "    print(f\"{type}: {count}\")\n",
    "\n",
    "\n",
    "type_proportions = type_counts / len(spectrum_types)\n",
    "# embedding takes approx. 1h for 20k embeddings on local machine\n",
    "total_samples = 10000\n",
    "samples_per_type = np.round(type_proportions * total_samples).astype(int)\n",
    "\n",
    "sampled_indices = []\n",
    "\n",
    "for spectrum_type, n_samples in zip(unique_types, samples_per_type):\n",
    "    type_indices = np.where(spectrum_types == spectrum_type)[0]\n",
    "    \n",
    "    # If we have fewer spectra of this type than we want to sample, take all of them\n",
    "    if len(type_indices) <= n_samples:\n",
    "        sampled_indices.extend(type_indices)\n",
    "    else:\n",
    "        sampled_indices.extend(np.random.choice(type_indices, size=n_samples, replace=False))\n",
    "\n",
    "# Shuffle the sampled indices\n",
    "np.random.shuffle(sampled_indices)\n",
    "\n",
    "# Ensure we have exactly 10000 samples\n",
    "sampled_indices = sampled_indices[:total_samples]\n",
    "sampled_spectra = data_full.get_spectra()[sampled_indices]\n",
    "print(f\"Total sampled indices: {len(sampled_indices)}\")\n",
    "print(\"Print 3 random samples (sanity check):\")\n",
    "print_indices = np.random.choice(sampled_indices, size=3, replace=False)\n",
    "for i in print_indices:\n",
    "    print(data_full.at(i))\n",
    "\n",
    "data_short = data_full.form_subset(sampled_indices, \"data/MoNA_experimental_short.hdf5\")\n",
    "print(\"\\nSampled dataset saved!\\n\")\n"
   ]
  },
  {
   "cell_type": "markdown",
   "metadata": {},
   "source": [
    "Non finetuned version"
   ]
  },
  {
   "cell_type": "code",
   "execution_count": null,
   "metadata": {},
   "outputs": [],
   "source": [
    "\n",
    "# use pretrained embedding model\n",
    "dreams_embs = dreams_embeddings(\"data/MoNA_experimental_short.hdf5\")\n"
   ]
  },
  {
   "cell_type": "code",
   "execution_count": 6,
   "metadata": {},
   "outputs": [],
   "source": [
    "sims = cosine_similarity(dreams_embs)"
   ]
  },
  {
   "cell_type": "markdown",
   "metadata": {},
   "source": [
    "Proposed novelty score:\n",
    "Inverse average cosine similarity of spectrum i against the whole subset\n",
    "\n",
    "Explanation:\n",
    "If a spectrum is similar to many points of the subset, it must mean that it is not really unique, so it should get a low novelty score. Analogously, a datapoint is considered novel if it is different from most points of the dataset.\n",
    "\n",
    "Weaknesses:\n",
    "identical to one sample, different to the rest?\n",
    "main diagonal has 1"
   ]
  },
  {
   "cell_type": "code",
   "execution_count": 23,
   "metadata": {},
   "outputs": [],
   "source": [
    "novelty_scores = []\n",
    "for i in range(len(sims)):\n",
    "    avg_sim = np.mean(sims[i])\n",
    "    novel_score = 1 - avg_sim\n",
    "    novelty_scores.append(novel_score)"
   ]
  },
  {
   "cell_type": "code",
   "execution_count": null,
   "metadata": {},
   "outputs": [],
   "source": [
    "# convert to pandas for ease of operations\n",
    "pd_short = data_short.to_pandas()\n",
    "pd_short[\"NOVELTY_SCORE\"] = novelty_scores\n",
    "pd_short[\"DREAMS_EMBEDDING\"] = dreams_embs.tolist()\n",
    "\n",
    "# convert back to MSData and save as hdf5 and mgf\n",
    "# pd_short.sort_values(\"precursor_mz\", inplace=True)\n",
    "# data = MSData.from_pandas(pd_short, hdf5_pth=\"data/MoNA_experimental_short_annotated.hdf5\")\n",
    "# data.to_mgf(\"data/MoNA_experimental_short_annotated.mgf\")\n",
    "\n",
    "# sort by novelty score\n",
    "#pd_short.sort_values(\"NOVELTY_SCORE\", ascending=False)"
   ]
  },
  {
   "cell_type": "markdown",
   "metadata": {},
   "source": [
    "UMAP projection"
   ]
  },
  {
   "cell_type": "code",
   "execution_count": null,
   "metadata": {},
   "outputs": [],
   "source": [
    "reducer = umap.UMAP(metric='cosine', min_dist=0.4, n_neighbors=50)\n",
    "embs_umap = reducer.fit_transform(np.array(pd_short[\"DREAMS_EMBEDDING\"].to_list()))\n",
    "\n",
    "colors = [\"blue\", \"white\", \"red\"]\n",
    "n_bins = 100\n",
    "cmap = LinearSegmentedColormap.from_list(\"custom\", colors, N=n_bins)\n",
    "\n",
    "# Set up the plot\n",
    "plt.figure(figsize=(8, 6))\n",
    "\n",
    "# Create the scatter plot\n",
    "scatter = plt.scatter(\n",
    "    x=embs_umap[:, 0],\n",
    "    y=embs_umap[:, 1],\n",
    "    c=pd_short[\"NOVELTY_SCORE\"],\n",
    "    cmap=cmap,\n",
    "    alpha=1,\n",
    "    s=1.6\n",
    ")\n",
    "\n",
    "# Add a colorbar\n",
    "cbar = plt.colorbar(scatter)\n",
    "cbar.set_label(\"Novelty Score\", rotation=270, labelpad=15)\n",
    "\n",
    "# Set labels and title\n",
    "plt.xlabel(\"UMAP 1\")\n",
    "plt.ylabel(\"UMAP 2\")\n",
    "plt.title(\"UMAP Projection with Novelty Score\")\n",
    "\n",
    "# Show the plot\n",
    "plt.tight_layout()\n",
    "plt.show()"
   ]
  },
  {
   "cell_type": "code",
   "execution_count": null,
   "metadata": {},
   "outputs": [],
   "source": []
  }
 ],
 "metadata": {
  "kernelspec": {
   "display_name": "dreams",
   "language": "python",
   "name": "python3"
  },
  "language_info": {
   "codemirror_mode": {
    "name": "ipython",
    "version": 3
   },
   "file_extension": ".py",
   "mimetype": "text/x-python",
   "name": "python",
   "nbconvert_exporter": "python",
   "pygments_lexer": "ipython3",
   "version": "3.11.0"
  }
 },
 "nbformat": 4,
 "nbformat_minor": 2
}
